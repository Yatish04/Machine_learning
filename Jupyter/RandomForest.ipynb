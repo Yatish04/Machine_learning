{
 "cells": [
  {
   "cell_type": "code",
   "execution_count": 1,
   "metadata": {},
   "outputs": [
    {
     "name": "stdout",
     "output_type": "stream",
     "text": [
      "actual: [1 1 1 1 1 2 1 1 1 1 1 2 1 1 1 1 1 1 2 1 1 1 1 1 1 1 1 1 1 1 1 1 1 1 1 1 2\n",
      " 1 1 1 1 1 1 1 1 1 1 4 1 1 2 2 1 1 2 1 1 1 1 1 1 1 2 1 1 1 1 1 2 1 1 2 1 1\n",
      " 2 1 1 2 1 1 1 4 4 1 2 1 1 1 2 1 2 2 1 1 1 2 1 1 2 2 2 1 2 1 1 1 1 2 1 1 1\n",
      " 3 1 1 4 1 1 2 1 1 4 4 1 1 2 2 1 2 1 2 1 2 4 2 1 1 2 1 1 2 1 1 1 1 1 1 1 1\n",
      " 1 1 1 1 2 1 4 1 1 2 1 2 1 1 2 1 2 2 1 1 1 1 1 1 4 1 1 1 1 2 1 1 3 1 1 2 1\n",
      " 3 1 1 2 1 1 2 1 2 1 1 1 1 1 1 1 2 2 1 1 1 1 1 1 1 1 1 1 3 1 1 2 1 1 1 2 1\n",
      " 1 1 1 1 1 1 1 1 2 2 1 1 2 1 2 1 1 1 2 3 1 2 2 1 1 1 1 1 1 1 1 1 1 1 1 1]\n",
      "predicted:  [1 1 1 1 1 2 1 1 1 1 1 2 1 1 1 1 1 1 2 1 1 1 1 1 1 1 1 1 1 1 1 1 1 1 1 1 2\n",
      " 1 1 1 1 1 1 1 1 1 1 4 1 1 2 2 1 1 2 1 1 1 1 1 1 1 2 1 1 1 1 1 2 1 1 2 1 1\n",
      " 2 1 1 2 1 1 1 2 3 1 2 1 1 1 2 1 2 2 1 1 1 2 1 1 2 2 2 1 2 1 1 1 1 2 1 1 1\n",
      " 2 1 1 2 1 1 2 1 1 4 4 1 1 2 2 1 1 1 2 1 2 2 2 1 1 2 1 1 2 1 1 1 1 1 1 1 1\n",
      " 1 1 1 1 2 1 3 1 1 2 1 2 1 1 2 1 1 2 1 1 1 1 1 1 4 1 1 1 1 2 1 1 3 1 1 2 1\n",
      " 3 1 1 3 1 1 2 1 2 1 1 1 1 1 1 1 2 2 1 1 1 1 1 1 1 1 1 1 2 1 1 2 1 1 1 2 1\n",
      " 1 1 1 1 1 1 1 1 2 2 1 1 2 1 2 1 1 1 2 3 1 2 2 1 1 1 1 1 1 1 1 1 1 1 1 1]\n",
      "0.9612403100775194\n"
     ]
    }
   ],
   "source": [
    "import numpy\n",
    "import pandas\n",
    "from numpy import genfromtxt\n",
    "from sklearn.ensemble import RandomForestClassifier\n",
    "my_data = genfromtxt('cartrain.csv', delimiter=',',dtype=int,usecols=(0,1,2,3,4,5))\n",
    "mytarget= genfromtxt('target.csv',delimiter=',',dtype=int)\n",
    "\n",
    "trainx=my_data[0:760]\n",
    "trainy=mytarget[0:760]\n",
    "testx=my_data[760:]\n",
    "testy=mytarget[760:]\n",
    "model=RandomForestClassifier(n_estimators=15, random_state=0)\n",
    "model.fit(trainx,trainy)\n",
    "\n",
    "print(\"actual:\",testy)\n",
    "\n",
    "print(\"predicted: \",model.predict(testx))\n",
    "print(model.score(testx,testy))"
   ]
  },
  {
   "cell_type": "code",
   "execution_count": null,
   "metadata": {},
   "outputs": [],
   "source": []
  }
 ],
 "metadata": {
  "kernelspec": {
   "display_name": "Python 3",
   "language": "python",
   "name": "python3"
  },
  "language_info": {
   "codemirror_mode": {
    "name": "ipython",
    "version": 3
   },
   "file_extension": ".py",
   "mimetype": "text/x-python",
   "name": "python",
   "nbconvert_exporter": "python",
   "pygments_lexer": "ipython3",
   "version": "3.5.2"
  }
 },
 "nbformat": 4,
 "nbformat_minor": 2
}
