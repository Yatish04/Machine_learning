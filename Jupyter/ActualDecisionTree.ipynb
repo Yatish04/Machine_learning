{
 "cells": [
  {
   "cell_type": "code",
   "execution_count": 1,
   "metadata": {},
   "outputs": [],
   "source": [
    "from sklearn.tree import DecisionTreeClassifier\n",
    "import pandas\n",
    "from numpy import genfromtxt\n",
    "my_data = genfromtxt('cartrain.csv', delimiter=',',dtype=int,usecols=(0,1,2,3,4,5))\n",
    "mytarget= genfromtxt('target.csv',delimiter=',',dtype=int)\n",
    "testx=genfromtxt('car_test.csv',delimiter=',',dtype=int)\n",
    "trainx=my_data[:]\n",
    "trainy=mytarget[:]\n",
    "\n",
    "model=DecisionTreeClassifier(random_state=1)\n",
    "\n",
    "\n",
    "model.fit(trainx, trainy)\n",
    "\n",
    "mdata=model.predict(testx)\n",
    "print(mdata)\n",
    "with open('ActualDecisiontree.txt','w') as fh:\n",
    "\tfor i in mdata:\n",
    "\t\tfh.write(str(i))\n",
    "\t\tfh.write(\"\\n\") \n",
    "        \n",
    "\n"
   ]
  },
  {
   "cell_type": "code",
   "execution_count": null,
   "metadata": {},
   "outputs": [],
   "source": []
  },
  {
   "cell_type": "code",
   "execution_count": null,
   "metadata": {},
   "outputs": [],
   "source": []
  }
 ],
 "metadata": {
  "kernelspec": {
   "display_name": "Python 3",
   "language": "python",
   "name": "python3"
  },
  "language_info": {
   "codemirror_mode": {
    "name": "ipython",
    "version": 3
   },
   "file_extension": ".py",
   "mimetype": "text/x-python",
   "name": "python",
   "nbconvert_exporter": "python",
   "pygments_lexer": "ipython3",
   "version": "3.5.2"
  }
 },
 "nbformat": 4,
 "nbformat_minor": 2
}
