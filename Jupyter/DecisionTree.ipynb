{
 "cells": [
  {
   "cell_type": "code",
   "execution_count": 1,
   "metadata": {},
   "outputs": [
    {
     "name": "stdout",
     "output_type": "stream",
     "text": [
      "Expected\n",
      "[1 1 1 1 2 1 1 2 1 1 1 2 1 3 1 1 2 2 1 1 1 1 1 1 1 1 1 1 1 1 1 1 1 3 4 1 2\n",
      " 1 1 1 1 2 2 1 2 1 2 2 1 1 1 1 1 2 1 1 1 1 2 1 1 1 2 2 1 1 1 4 1 1 1 1 1 2\n",
      " 1 1 1 1 1 1 1 1 1 1 1 2 1 1 1 1 1 1 1 1 1 1 1 1 1 1 2 3 2 1 1 2 1 3 1 1 3\n",
      " 1 1 1 1 1 1 3 2 1 1 2 1 1 1 1 1 3 1 1 1 1 2 4 1 2 1 1 1 1 1 1 1 1 1 1 1 1\n",
      " 1 1 1 1 1 1 2 2 1 2 1 2 1 1 1 4 1 1 1 1 1 2 2 2 1 1 1 2 1 1 1 1 1 2 2 1 1\n",
      " 1 1 3 1 1 1 1 1 1 1 1 2 1 1 1 1 1 1 1 1 1 1 2 2 1 1 2 1 1 1 4 1 1 3 1 1 1\n",
      " 2 1 2 1 1 2 1 1 3 1 1 1 1 1 2 1 1 2 1 1 1 2 1 1 1 2 2]\n",
      "Found\n",
      "[1 1 1 1 2 1 1 2 1 1 1 2 1 3 1 1 2 2 1 1 1 1 1 1 1 1 1 1 1 1 1 1 1 3 4 1 2\n",
      " 1 1 1 1 2 3 1 2 1 2 4 1 2 1 1 1 4 1 1 1 1 2 1 1 1 2 2 1 1 1 4 1 1 1 1 1 2\n",
      " 1 1 1 1 1 1 1 1 1 1 1 2 1 1 1 1 1 1 1 1 1 1 1 1 1 1 2 3 2 1 1 2 1 3 1 1 3\n",
      " 1 1 1 1 1 1 3 2 1 1 4 1 1 1 1 1 2 1 1 1 1 2 4 1 2 1 1 1 1 1 1 1 1 1 1 1 1\n",
      " 1 1 1 1 1 1 2 2 2 2 1 2 1 1 1 4 1 1 1 1 1 2 2 2 1 1 1 2 1 1 1 1 1 2 2 1 1\n",
      " 1 1 3 1 1 1 1 1 1 1 1 2 1 1 1 1 1 1 1 1 1 1 2 2 1 1 2 1 1 1 4 1 1 3 1 1 1\n",
      " 2 1 2 1 1 2 1 1 1 1 1 1 1 1 2 1 1 2 1 1 1 2 1 1 1 2 2]\n",
      "Score:  0.9678714859437751\n"
     ]
    }
   ],
   "source": [
    "from sklearn.tree import DecisionTreeClassifier\n",
    "import pandas\n",
    "from numpy import genfromtxt\n",
    "my_data = genfromtxt('cartrain.csv', delimiter=',',dtype=int,usecols=(0,1,2,3,4,5))\n",
    "mytarget= genfromtxt('target.csv',delimiter=',',dtype=int)\n",
    "\n",
    "trainx=my_data[250:]\n",
    "trainy=mytarget[250:]\n",
    "testx=my_data[:249]\n",
    "testy=mytarget[:249]\n",
    "model=DecisionTreeClassifier(random_state=1)\n",
    "\n",
    "#model = KNeighborsClassifier(n_neighbors=5)\n",
    "model.fit(trainx, trainy)\n",
    "print(\"Expected\")\n",
    "print(testy)\n",
    "print(\"Found\")\n",
    "print(model.predict(testx))\n",
    "print(\"Score: \",model.score(testx,testy))\n"
   ]
  },
  {
   "cell_type": "code",
   "execution_count": null,
   "metadata": {},
   "outputs": [],
   "source": []
  }
 ],
 "metadata": {
  "kernelspec": {
   "display_name": "Python 3",
   "language": "python",
   "name": "python3"
  },
  "language_info": {
   "codemirror_mode": {
    "name": "ipython",
    "version": 3
   },
   "file_extension": ".py",
   "mimetype": "text/x-python",
   "name": "python",
   "nbconvert_exporter": "python",
   "pygments_lexer": "ipython3",
   "version": "3.5.2"
  }
 },
 "nbformat": 4,
 "nbformat_minor": 2
}
